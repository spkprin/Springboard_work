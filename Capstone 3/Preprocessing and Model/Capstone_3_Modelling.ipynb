{
 "cells": [
  {
   "cell_type": "code",
   "execution_count": 1,
   "metadata": {},
   "outputs": [],
   "source": [
    "import numpy as np\n",
    "import matplotlib.pyplot as plt\n",
    "import pandas as pd\n",
    "import seaborn as sns\n",
    "%matplotlib inline\n",
    "import plotly.graph_objects as go"
   ]
  },
  {
   "cell_type": "code",
   "execution_count": 2,
   "metadata": {},
   "outputs": [],
   "source": [
    "#load Data\n",
    "\n",
    "Eth2=pd.read_csv('Eth_Cleaned.csv')"
   ]
  },
  {
   "cell_type": "code",
   "execution_count": 3,
   "metadata": {},
   "outputs": [],
   "source": [
    "Eth1_fb=Eth2"
   ]
  },
  {
   "cell_type": "code",
   "execution_count": 4,
   "metadata": {},
   "outputs": [],
   "source": [
    "#Making the Date the index\n",
    "Eth2=Eth2.set_index('Date')"
   ]
  },
  {
   "cell_type": "markdown",
   "metadata": {},
   "source": [
    "## Modelling"
   ]
  },
  {
   "cell_type": "code",
   "execution_count": 5,
   "metadata": {},
   "outputs": [
    {
     "data": {
      "text/html": [
       "<div>\n",
       "<style scoped>\n",
       "    .dataframe tbody tr th:only-of-type {\n",
       "        vertical-align: middle;\n",
       "    }\n",
       "\n",
       "    .dataframe tbody tr th {\n",
       "        vertical-align: top;\n",
       "    }\n",
       "\n",
       "    .dataframe thead th {\n",
       "        text-align: right;\n",
       "    }\n",
       "</style>\n",
       "<table border=\"1\" class=\"dataframe\">\n",
       "  <thead>\n",
       "    <tr style=\"text-align: right;\">\n",
       "      <th></th>\n",
       "      <th>Price</th>\n",
       "    </tr>\n",
       "    <tr>\n",
       "      <th>Date</th>\n",
       "      <th></th>\n",
       "    </tr>\n",
       "  </thead>\n",
       "  <tbody>\n",
       "    <tr>\n",
       "      <th>2016-03-10</th>\n",
       "      <td>11.75</td>\n",
       "    </tr>\n",
       "    <tr>\n",
       "      <th>2016-03-11</th>\n",
       "      <td>11.95</td>\n",
       "    </tr>\n",
       "    <tr>\n",
       "      <th>2016-03-12</th>\n",
       "      <td>12.92</td>\n",
       "    </tr>\n",
       "    <tr>\n",
       "      <th>2016-03-13</th>\n",
       "      <td>15.07</td>\n",
       "    </tr>\n",
       "    <tr>\n",
       "      <th>2016-03-14</th>\n",
       "      <td>12.50</td>\n",
       "    </tr>\n",
       "  </tbody>\n",
       "</table>\n",
       "</div>"
      ],
      "text/plain": [
       "            Price\n",
       "Date             \n",
       "2016-03-10  11.75\n",
       "2016-03-11  11.95\n",
       "2016-03-12  12.92\n",
       "2016-03-13  15.07\n",
       "2016-03-14  12.50"
      ]
     },
     "execution_count": 5,
     "metadata": {},
     "output_type": "execute_result"
    }
   ],
   "source": [
    "#Dataset for modelling\n",
    "Eth_df=Eth2[['Price']]\n",
    "Eth_df.head()"
   ]
  },
  {
   "cell_type": "markdown",
   "metadata": {},
   "source": [
    "### a. Feedforward Neural Network"
   ]
  },
  {
   "cell_type": "code",
   "execution_count": 6,
   "metadata": {
    "scrolled": false
   },
   "outputs": [
    {
     "name": "stderr",
     "output_type": "stream",
     "text": [
      "Using TensorFlow backend.\n"
     ]
    }
   ],
   "source": [
    "from keras.models import Sequential\n",
    "from keras.layers import Dense\n",
    "from sklearn.preprocessing import MinMaxScaler\n",
    "from sklearn.metrics import mean_squared_error"
   ]
  },
  {
   "cell_type": "code",
   "execution_count": 7,
   "metadata": {},
   "outputs": [],
   "source": [
    "#Convert pandas dataframe to numpy array\n",
    "eth_np = Eth_df.values\n",
    "eth_np = eth_np.astype('float32') "
   ]
  },
  {
   "cell_type": "code",
   "execution_count": 8,
   "metadata": {},
   "outputs": [],
   "source": [
    "# normalize the dataset\n",
    "scaler = MinMaxScaler(feature_range=(0, 1))\n",
    "eth_np = scaler.fit_transform(eth_np)"
   ]
  },
  {
   "cell_type": "code",
   "execution_count": 9,
   "metadata": {},
   "outputs": [],
   "source": [
    "#split into train and test sets, Fisrt 2/3 for training and last 1/3 for testing\n",
    "train_size = int(len(eth_np) * 0.66)\n",
    "test_size = len(eth_np) - train_size\n",
    "train, test = eth_np[0:train_size,:], eth_np[train_size:len(eth_np),:] "
   ]
  },
  {
   "cell_type": "code",
   "execution_count": 10,
   "metadata": {},
   "outputs": [
    {
     "name": "stdout",
     "output_type": "stream",
     "text": [
      "Shape of training set: (1285, 10)\n",
      "Shape of test set: (657, 10)\n"
     ]
    }
   ],
   "source": [
    "#creates a dataset X for t, t-1, t-2 ... prices and Y for the next (t + 1) prices\n",
    "def to_sequences(eth_np, seq_size=1):\n",
    "    x = []\n",
    "    y = []\n",
    "\n",
    "    for i in range(len(eth_np)-seq_size-1):\n",
    "        #print(i)\n",
    "        window = eth_np[i:(i+seq_size), 0]\n",
    "        x.append(window)\n",
    "        y.append(eth_np[i+seq_size, 0])\n",
    "        \n",
    "    return np.array(x),np.array(y)\n",
    "\n",
    "seq_size = 10 # Number of time steps to look back \n",
    "#Larger sequences (look further back) may improve forecasting.\n",
    "trainX, trainY = to_sequences(train, seq_size)\n",
    "testX, testY = to_sequences(test, seq_size)\n",
    "\n",
    "print(\"Shape of training set: {}\".format(trainX.shape))\n",
    "print(\"Shape of test set: {}\".format(testX.shape))\n"
   ]
  },
  {
   "cell_type": "code",
   "execution_count": 11,
   "metadata": {},
   "outputs": [
    {
     "name": "stdout",
     "output_type": "stream",
     "text": [
      "Build deep model...\n",
      "Model: \"sequential_1\"\n",
      "_________________________________________________________________\n",
      "Layer (type)                 Output Shape              Param #   \n",
      "=================================================================\n",
      "dense_1 (Dense)              (None, 64)                704       \n",
      "_________________________________________________________________\n",
      "dense_2 (Dense)              (None, 1)                 65        \n",
      "=================================================================\n",
      "Total params: 769\n",
      "Trainable params: 769\n",
      "Non-trainable params: 0\n",
      "_________________________________________________________________\n",
      "None\n"
     ]
    }
   ],
   "source": [
    "#build the model\n",
    "#Input dimensions are... (N x seq_size)\n",
    "print('Build deep model...')\n",
    "# create and fit dense model\n",
    "model = Sequential()\n",
    "model.add(Dense(64, input_dim=seq_size, activation='relu'))\n",
    "model.add(Dense(1))\n",
    "model.compile(loss='mean_squared_error', optimizer='adam', metrics = ['acc'])\n",
    "print(model.summary()) "
   ]
  },
  {
   "cell_type": "code",
   "execution_count": 12,
   "metadata": {},
   "outputs": [
    {
     "name": "stdout",
     "output_type": "stream",
     "text": [
      "Train on 1285 samples, validate on 657 samples\n",
      "Epoch 1/100\n",
      "1285/1285 [==============================] - 0s 173us/step - loss: 0.0024 - acc: 7.7821e-04 - val_loss: 0.0072 - val_acc: 0.0015\n",
      "Epoch 2/100\n",
      "1285/1285 [==============================] - 0s 78us/step - loss: 1.3123e-04 - acc: 7.7821e-04 - val_loss: 0.0017 - val_acc: 0.0015\n",
      "Epoch 3/100\n",
      "1285/1285 [==============================] - 0s 78us/step - loss: 1.0838e-04 - acc: 7.7821e-04 - val_loss: 0.0016 - val_acc: 0.0015\n",
      "Epoch 4/100\n",
      "1285/1285 [==============================] - 0s 73us/step - loss: 9.8923e-05 - acc: 7.7821e-04 - val_loss: 0.0016 - val_acc: 0.0015\n",
      "Epoch 5/100\n",
      "1285/1285 [==============================] - 0s 83us/step - loss: 9.1558e-05 - acc: 7.7821e-04 - val_loss: 0.0012 - val_acc: 0.0015\n",
      "Epoch 6/100\n",
      "1285/1285 [==============================] - 0s 73us/step - loss: 8.1441e-05 - acc: 7.7821e-04 - val_loss: 0.0013 - val_acc: 0.0015\n",
      "Epoch 7/100\n",
      "1285/1285 [==============================] - 0s 65us/step - loss: 7.3571e-05 - acc: 7.7821e-04 - val_loss: 9.1422e-04 - val_acc: 0.0015\n",
      "Epoch 8/100\n",
      "1285/1285 [==============================] - 0s 79us/step - loss: 6.5378e-05 - acc: 7.7821e-04 - val_loss: 8.4813e-04 - val_acc: 0.0015\n",
      "Epoch 9/100\n",
      "1285/1285 [==============================] - 0s 66us/step - loss: 6.3252e-05 - acc: 7.7821e-04 - val_loss: 9.6934e-04 - val_acc: 0.0015\n",
      "Epoch 10/100\n",
      "1285/1285 [==============================] - 0s 90us/step - loss: 6.0620e-05 - acc: 7.7821e-04 - val_loss: 8.1615e-04 - val_acc: 0.0015\n",
      "Epoch 11/100\n",
      "1285/1285 [==============================] - 0s 78us/step - loss: 5.9855e-05 - acc: 7.7821e-04 - val_loss: 0.0010 - val_acc: 0.0015\n",
      "Epoch 12/100\n",
      "1285/1285 [==============================] - 0s 72us/step - loss: 5.5688e-05 - acc: 7.7821e-04 - val_loss: 8.8135e-04 - val_acc: 0.0015\n",
      "Epoch 13/100\n",
      "1285/1285 [==============================] - 0s 65us/step - loss: 5.2757e-05 - acc: 7.7821e-04 - val_loss: 6.7141e-04 - val_acc: 0.0015\n",
      "Epoch 14/100\n",
      "1285/1285 [==============================] - 0s 72us/step - loss: 5.7009e-05 - acc: 7.7821e-04 - val_loss: 6.6123e-04 - val_acc: 0.0015\n",
      "Epoch 15/100\n",
      "1285/1285 [==============================] - 0s 78us/step - loss: 5.4771e-05 - acc: 7.7821e-04 - val_loss: 6.4243e-04 - val_acc: 0.0015\n",
      "Epoch 16/100\n",
      "1285/1285 [==============================] - 0s 66us/step - loss: 5.1406e-05 - acc: 7.7821e-04 - val_loss: 8.1593e-04 - val_acc: 0.0015\n",
      "Epoch 17/100\n",
      "1285/1285 [==============================] - 0s 78us/step - loss: 4.9850e-05 - acc: 7.7821e-04 - val_loss: 7.1551e-04 - val_acc: 0.0015\n",
      "Epoch 18/100\n",
      "1285/1285 [==============================] - 0s 72us/step - loss: 4.6660e-05 - acc: 7.7821e-04 - val_loss: 5.9034e-04 - val_acc: 0.0015\n",
      "Epoch 19/100\n",
      "1285/1285 [==============================] - 0s 71us/step - loss: 4.9473e-05 - acc: 7.7821e-04 - val_loss: 7.7351e-04 - val_acc: 0.0015\n",
      "Epoch 20/100\n",
      "1285/1285 [==============================] - 0s 66us/step - loss: 4.6829e-05 - acc: 7.7821e-04 - val_loss: 8.1848e-04 - val_acc: 0.0015\n",
      "Epoch 21/100\n",
      "1285/1285 [==============================] - 0s 78us/step - loss: 4.5501e-05 - acc: 7.7821e-04 - val_loss: 7.3756e-04 - val_acc: 0.0015\n",
      "Epoch 22/100\n",
      "1285/1285 [==============================] - 0s 66us/step - loss: 4.4387e-05 - acc: 7.7821e-04 - val_loss: 6.0733e-04 - val_acc: 0.0015\n",
      "Epoch 23/100\n",
      "1285/1285 [==============================] - 0s 78us/step - loss: 4.5573e-05 - acc: 7.7821e-04 - val_loss: 7.1013e-04 - val_acc: 0.0015\n",
      "Epoch 24/100\n",
      "1285/1285 [==============================] - 0s 78us/step - loss: 4.7506e-05 - acc: 7.7821e-04 - val_loss: 6.9529e-04 - val_acc: 0.0015\n",
      "Epoch 25/100\n",
      "1285/1285 [==============================] - 0s 73us/step - loss: 4.3750e-05 - acc: 7.7821e-04 - val_loss: 5.4953e-04 - val_acc: 0.0015\n",
      "Epoch 26/100\n",
      "1285/1285 [==============================] - 0s 66us/step - loss: 5.2041e-05 - acc: 7.7821e-04 - val_loss: 7.7047e-04 - val_acc: 0.0015\n",
      "Epoch 27/100\n",
      "1285/1285 [==============================] - 0s 66us/step - loss: 4.4186e-05 - acc: 7.7821e-04 - val_loss: 6.6164e-04 - val_acc: 0.0015\n",
      "Epoch 28/100\n",
      "1285/1285 [==============================] - 0s 66us/step - loss: 4.4285e-05 - acc: 7.7821e-04 - val_loss: 5.6005e-04 - val_acc: 0.0015\n",
      "Epoch 29/100\n",
      "1285/1285 [==============================] - 0s 66us/step - loss: 4.2215e-05 - acc: 7.7821e-04 - val_loss: 9.6206e-04 - val_acc: 0.0015\n",
      "Epoch 30/100\n",
      "1285/1285 [==============================] - 0s 68us/step - loss: 4.1087e-05 - acc: 7.7821e-04 - val_loss: 5.3277e-04 - val_acc: 0.0015\n",
      "Epoch 31/100\n",
      "1285/1285 [==============================] - 0s 76us/step - loss: 4.3459e-05 - acc: 7.7821e-04 - val_loss: 6.8033e-04 - val_acc: 0.0015\n",
      "Epoch 32/100\n",
      "1285/1285 [==============================] - 0s 66us/step - loss: 4.1757e-05 - acc: 7.7821e-04 - val_loss: 8.5654e-04 - val_acc: 0.0015\n",
      "Epoch 33/100\n",
      "1285/1285 [==============================] - 0s 66us/step - loss: 4.3401e-05 - acc: 7.7821e-04 - val_loss: 6.2809e-04 - val_acc: 0.0015\n",
      "Epoch 34/100\n",
      "1285/1285 [==============================] - 0s 66us/step - loss: 4.0503e-05 - acc: 7.7821e-04 - val_loss: 8.5602e-04 - val_acc: 0.0015\n",
      "Epoch 35/100\n",
      "1285/1285 [==============================] - 0s 76us/step - loss: 5.3293e-05 - acc: 7.7821e-04 - val_loss: 6.5720e-04 - val_acc: 0.0015\n",
      "Epoch 36/100\n",
      "1285/1285 [==============================] - 0s 54us/step - loss: 4.4304e-05 - acc: 7.7821e-04 - val_loss: 7.8210e-04 - val_acc: 0.0015\n",
      "Epoch 37/100\n",
      "1285/1285 [==============================] - 0s 49us/step - loss: 3.9032e-05 - acc: 7.7821e-04 - val_loss: 6.6808e-04 - val_acc: 0.0015\n",
      "Epoch 38/100\n",
      "1285/1285 [==============================] - 0s 66us/step - loss: 4.4360e-05 - acc: 7.7821e-04 - val_loss: 6.6902e-04 - val_acc: 0.0015\n",
      "Epoch 39/100\n",
      "1285/1285 [==============================] - 0s 54us/step - loss: 4.5677e-05 - acc: 7.7821e-04 - val_loss: 4.7903e-04 - val_acc: 0.0015\n",
      "Epoch 40/100\n",
      "1285/1285 [==============================] - 0s 66us/step - loss: 4.4163e-05 - acc: 7.7821e-04 - val_loss: 5.4236e-04 - val_acc: 0.0015\n",
      "Epoch 41/100\n",
      "1285/1285 [==============================] - 0s 49us/step - loss: 4.1331e-05 - acc: 7.7821e-04 - val_loss: 0.0012 - val_acc: 0.0015\n",
      "Epoch 42/100\n",
      "1285/1285 [==============================] - 0s 76us/step - loss: 4.4130e-05 - acc: 7.7821e-04 - val_loss: 8.4405e-04 - val_acc: 0.0015\n",
      "Epoch 43/100\n",
      "1285/1285 [==============================] - 0s 55us/step - loss: 3.8125e-05 - acc: 7.7821e-04 - val_loss: 6.6134e-04 - val_acc: 0.0015\n",
      "Epoch 44/100\n",
      "1285/1285 [==============================] - 0s 66us/step - loss: 3.7702e-05 - acc: 7.7821e-04 - val_loss: 7.8526e-04 - val_acc: 0.0015\n",
      "Epoch 45/100\n",
      "1285/1285 [==============================] - 0s 66us/step - loss: 3.9502e-05 - acc: 7.7821e-04 - val_loss: 5.8870e-04 - val_acc: 0.0015\n",
      "Epoch 46/100\n",
      "1285/1285 [==============================] - 0s 70us/step - loss: 3.6149e-05 - acc: 7.7821e-04 - val_loss: 0.0015 - val_acc: 0.0015\n",
      "Epoch 47/100\n",
      "1285/1285 [==============================] - 0s 52us/step - loss: 4.1692e-05 - acc: 7.7821e-04 - val_loss: 5.7983e-04 - val_acc: 0.0015\n",
      "Epoch 48/100\n",
      "1285/1285 [==============================] - 0s 57us/step - loss: 3.6967e-05 - acc: 7.7821e-04 - val_loss: 6.3809e-04 - val_acc: 0.0015\n",
      "Epoch 49/100\n",
      "1285/1285 [==============================] - 0s 53us/step - loss: 3.5487e-05 - acc: 7.7821e-04 - val_loss: 4.8347e-04 - val_acc: 0.0015\n",
      "Epoch 50/100\n",
      "1285/1285 [==============================] - 0s 55us/step - loss: 4.3118e-05 - acc: 7.7821e-04 - val_loss: 5.8457e-04 - val_acc: 0.0015\n",
      "Epoch 51/100\n",
      "1285/1285 [==============================] - 0s 66us/step - loss: 3.7085e-05 - acc: 7.7821e-04 - val_loss: 5.3441e-04 - val_acc: 0.0015\n",
      "Epoch 52/100\n",
      "1285/1285 [==============================] - 0s 61us/step - loss: 3.7390e-05 - acc: 7.7821e-04 - val_loss: 7.8260e-04 - val_acc: 0.0015\n",
      "Epoch 53/100\n",
      "1285/1285 [==============================] - 0s 54us/step - loss: 4.0461e-05 - acc: 7.7821e-04 - val_loss: 7.2070e-04 - val_acc: 0.0015\n",
      "Epoch 54/100\n",
      "1285/1285 [==============================] - 0s 66us/step - loss: 3.4957e-05 - acc: 7.7821e-04 - val_loss: 5.9646e-04 - val_acc: 0.0015\n",
      "Epoch 55/100\n",
      "1285/1285 [==============================] - 0s 54us/step - loss: 4.0090e-05 - acc: 7.7821e-04 - val_loss: 5.3901e-04 - val_acc: 0.0015\n"
     ]
    },
    {
     "name": "stdout",
     "output_type": "stream",
     "text": [
      "Epoch 56/100\n",
      "1285/1285 [==============================] - 0s 50us/step - loss: 3.6107e-05 - acc: 7.7821e-04 - val_loss: 5.9324e-04 - val_acc: 0.0015\n",
      "Epoch 57/100\n",
      "1285/1285 [==============================] - 0s 67us/step - loss: 3.6309e-05 - acc: 7.7821e-04 - val_loss: 8.9569e-04 - val_acc: 0.0015\n",
      "Epoch 58/100\n",
      "1285/1285 [==============================] - 0s 54us/step - loss: 4.1705e-05 - acc: 7.7821e-04 - val_loss: 6.3931e-04 - val_acc: 0.0015\n",
      "Epoch 59/100\n",
      "1285/1285 [==============================] - 0s 71us/step - loss: 3.5638e-05 - acc: 7.7821e-04 - val_loss: 8.1458e-04 - val_acc: 0.0015\n",
      "Epoch 60/100\n",
      "1285/1285 [==============================] - 0s 49us/step - loss: 4.2340e-05 - acc: 7.7821e-04 - val_loss: 7.7288e-04 - val_acc: 0.0015\n",
      "Epoch 61/100\n",
      "1285/1285 [==============================] - 0s 59us/step - loss: 3.4714e-05 - acc: 7.7821e-04 - val_loss: 8.9653e-04 - val_acc: 0.0015\n",
      "Epoch 62/100\n",
      "1285/1285 [==============================] - 0s 56us/step - loss: 3.9128e-05 - acc: 7.7821e-04 - val_loss: 5.2646e-04 - val_acc: 0.0015\n",
      "Epoch 63/100\n",
      "1285/1285 [==============================] - 0s 74us/step - loss: 3.7316e-05 - acc: 7.7821e-04 - val_loss: 8.2841e-04 - val_acc: 0.0015\n",
      "Epoch 64/100\n",
      "1285/1285 [==============================] - 0s 78us/step - loss: 3.4888e-05 - acc: 7.7821e-04 - val_loss: 4.5757e-04 - val_acc: 0.0015\n",
      "Epoch 65/100\n",
      "1285/1285 [==============================] - 0s 54us/step - loss: 4.2867e-05 - acc: 7.7821e-04 - val_loss: 0.0013 - val_acc: 0.0015\n",
      "Epoch 66/100\n",
      "1285/1285 [==============================] - 0s 66us/step - loss: 4.0888e-05 - acc: 7.7821e-04 - val_loss: 4.5568e-04 - val_acc: 0.0015\n",
      "Epoch 67/100\n",
      "1285/1285 [==============================] - 0s 61us/step - loss: 6.1269e-05 - acc: 7.7821e-04 - val_loss: 8.2804e-04 - val_acc: 0.0015\n",
      "Epoch 68/100\n",
      "1285/1285 [==============================] - 0s 66us/step - loss: 3.4950e-05 - acc: 7.7821e-04 - val_loss: 8.6552e-04 - val_acc: 0.0015\n",
      "Epoch 69/100\n",
      "1285/1285 [==============================] - 0s 61us/step - loss: 3.6699e-05 - acc: 7.7821e-04 - val_loss: 5.0629e-04 - val_acc: 0.0015\n",
      "Epoch 70/100\n",
      "1285/1285 [==============================] - 0s 58us/step - loss: 3.8440e-05 - acc: 7.7821e-04 - val_loss: 5.8954e-04 - val_acc: 0.0015\n",
      "Epoch 71/100\n",
      "1285/1285 [==============================] - 0s 49us/step - loss: 3.8648e-05 - acc: 7.7821e-04 - val_loss: 6.6948e-04 - val_acc: 0.0015\n",
      "Epoch 72/100\n",
      "1285/1285 [==============================] - 0s 47us/step - loss: 3.4139e-05 - acc: 7.7821e-04 - val_loss: 5.9895e-04 - val_acc: 0.0015\n",
      "Epoch 73/100\n",
      "1285/1285 [==============================] - 0s 60us/step - loss: 3.8355e-05 - acc: 7.7821e-04 - val_loss: 5.7061e-04 - val_acc: 0.0015\n",
      "Epoch 74/100\n",
      "1285/1285 [==============================] - 0s 66us/step - loss: 3.8738e-05 - acc: 7.7821e-04 - val_loss: 7.3858e-04 - val_acc: 0.0015\n",
      "Epoch 75/100\n",
      "1285/1285 [==============================] - 0s 49us/step - loss: 3.6296e-05 - acc: 7.7821e-04 - val_loss: 0.0012 - val_acc: 0.0015\n",
      "Epoch 76/100\n",
      "1285/1285 [==============================] - 0s 50us/step - loss: 3.6061e-05 - acc: 7.7821e-04 - val_loss: 8.6768e-04 - val_acc: 0.0015\n",
      "Epoch 77/100\n",
      "1285/1285 [==============================] - 0s 70us/step - loss: 3.4341e-05 - acc: 7.7821e-04 - val_loss: 6.1409e-04 - val_acc: 0.0015\n",
      "Epoch 78/100\n",
      "1285/1285 [==============================] - 0s 54us/step - loss: 3.2634e-05 - acc: 7.7821e-04 - val_loss: 9.4729e-04 - val_acc: 0.0015\n",
      "Epoch 79/100\n",
      "1285/1285 [==============================] - 0s 66us/step - loss: 3.4772e-05 - acc: 7.7821e-04 - val_loss: 7.2864e-04 - val_acc: 0.0015\n",
      "Epoch 80/100\n",
      "1285/1285 [==============================] - 0s 61us/step - loss: 3.2241e-05 - acc: 7.7821e-04 - val_loss: 7.1898e-04 - val_acc: 0.0015\n",
      "Epoch 81/100\n",
      "1285/1285 [==============================] - 0s 54us/step - loss: 3.3114e-05 - acc: 7.7821e-04 - val_loss: 7.6864e-04 - val_acc: 0.0015\n",
      "Epoch 82/100\n",
      "1285/1285 [==============================] - 0s 66us/step - loss: 3.6039e-05 - acc: 7.7821e-04 - val_loss: 4.9505e-04 - val_acc: 0.0015\n",
      "Epoch 83/100\n",
      "1285/1285 [==============================] - 0s 48us/step - loss: 3.4226e-05 - acc: 7.7821e-04 - val_loss: 5.1599e-04 - val_acc: 0.0015\n",
      "Epoch 84/100\n",
      "1285/1285 [==============================] - 0s 61us/step - loss: 3.2365e-05 - acc: 7.7821e-04 - val_loss: 6.9753e-04 - val_acc: 0.0015\n",
      "Epoch 85/100\n",
      "1285/1285 [==============================] - 0s 58us/step - loss: 3.7956e-05 - acc: 7.7821e-04 - val_loss: 5.3632e-04 - val_acc: 0.0015\n",
      "Epoch 86/100\n",
      "1285/1285 [==============================] - 0s 62us/step - loss: 3.8549e-05 - acc: 7.7821e-04 - val_loss: 5.0432e-04 - val_acc: 0.0015\n",
      "Epoch 87/100\n",
      "1285/1285 [==============================] - 0s 66us/step - loss: 3.5620e-05 - acc: 7.7821e-04 - val_loss: 9.5900e-04 - val_acc: 0.0015\n",
      "Epoch 88/100\n",
      "1285/1285 [==============================] - 0s 54us/step - loss: 3.4711e-05 - acc: 7.7821e-04 - val_loss: 7.9044e-04 - val_acc: 0.0015\n",
      "Epoch 89/100\n",
      "1285/1285 [==============================] - 0s 69us/step - loss: 3.2967e-05 - acc: 7.7821e-04 - val_loss: 9.2221e-04 - val_acc: 0.0015\n",
      "Epoch 90/100\n",
      "1285/1285 [==============================] - 0s 47us/step - loss: 3.2621e-05 - acc: 7.7821e-04 - val_loss: 6.1991e-04 - val_acc: 0.0015\n",
      "Epoch 91/100\n",
      "1285/1285 [==============================] - 0s 62us/step - loss: 3.2917e-05 - acc: 7.7821e-04 - val_loss: 7.8137e-04 - val_acc: 0.0015\n",
      "Epoch 92/100\n",
      "1285/1285 [==============================] - 0s 66us/step - loss: 4.0088e-05 - acc: 7.7821e-04 - val_loss: 9.0437e-04 - val_acc: 0.0015\n",
      "Epoch 93/100\n",
      "1285/1285 [==============================] - 0s 49us/step - loss: 3.5800e-05 - acc: 7.7821e-04 - val_loss: 0.0012 - val_acc: 0.0015\n",
      "Epoch 94/100\n",
      "1285/1285 [==============================] - 0s 54us/step - loss: 3.7151e-05 - acc: 7.7821e-04 - val_loss: 5.9769e-04 - val_acc: 0.0015\n",
      "Epoch 95/100\n",
      "1285/1285 [==============================] - 0s 66us/step - loss: 3.8171e-05 - acc: 7.7821e-04 - val_loss: 7.7517e-04 - val_acc: 0.0015\n",
      "Epoch 96/100\n",
      "1285/1285 [==============================] - 0s 70us/step - loss: 3.2444e-05 - acc: 7.7821e-04 - val_loss: 9.3641e-04 - val_acc: 0.0015\n",
      "Epoch 97/100\n",
      "1285/1285 [==============================] - 0s 62us/step - loss: 3.3078e-05 - acc: 7.7821e-04 - val_loss: 4.9071e-04 - val_acc: 0.0015\n",
      "Epoch 98/100\n",
      "1285/1285 [==============================] - 0s 78us/step - loss: 3.2322e-05 - acc: 7.7821e-04 - val_loss: 7.6837e-04 - val_acc: 0.0015\n",
      "Epoch 99/100\n",
      "1285/1285 [==============================] - 0s 90us/step - loss: 3.2367e-05 - acc: 7.7821e-04 - val_loss: 8.9791e-04 - val_acc: 0.0015\n",
      "Epoch 100/100\n",
      "1285/1285 [==============================] - 0s 78us/step - loss: 3.5025e-05 - acc: 7.7821e-04 - val_loss: 8.0940e-04 - val_acc: 0.0015\n"
     ]
    },
    {
     "data": {
      "text/plain": [
       "<keras.callbacks.callbacks.History at 0x1f83d700208>"
      ]
     },
     "execution_count": 12,
     "metadata": {},
     "output_type": "execute_result"
    }
   ],
   "source": [
    "#Fit the model\n",
    "model.fit(trainX, trainY, validation_data=(testX, testY),\n",
    "          verbose=1, epochs=100)"
   ]
  },
  {
   "cell_type": "code",
   "execution_count": 13,
   "metadata": {},
   "outputs": [],
   "source": [
    "# Predictions\n",
    "trainPredict = model.predict(trainX)\n",
    "testPredict = model.predict(testX)"
   ]
  },
  {
   "cell_type": "code",
   "execution_count": 14,
   "metadata": {},
   "outputs": [],
   "source": [
    "# Inverse Transforms\n",
    "trainPredict = scaler.inverse_transform(trainPredict)\n",
    "trainY_inverse = scaler.inverse_transform([trainY])\n",
    "testPredict = scaler.inverse_transform(testPredict)\n",
    "testY_inverse = scaler.inverse_transform([testY])"
   ]
  },
  {
   "cell_type": "code",
   "execution_count": 15,
   "metadata": {},
   "outputs": [
    {
     "name": "stdout",
     "output_type": "stream",
     "text": [
      "Train Score: 22.45 RMSE\n",
      "Test Score: 118.38 RMSE\n"
     ]
    }
   ],
   "source": [
    "import math\n",
    "# Calculate Root Mean Squared Error\n",
    "trainScore = math.sqrt(mean_squared_error(trainY_inverse[0], trainPredict[:,0]))\n",
    "print('Train Score: %.2f RMSE' % (trainScore))\n",
    "\n",
    "testScore = math.sqrt(mean_squared_error(testY_inverse[0], testPredict[:,0]))\n",
    "print('Test Score: %.2f RMSE' % (testScore))\n"
   ]
  },
  {
   "cell_type": "code",
   "execution_count": 16,
   "metadata": {},
   "outputs": [
    {
     "data": {
      "image/png": "[encoded data removed]",
      "text/plain": [
       "<Figure size 432x288 with 1 Axes>"
      ]
     },
     "metadata": {
      "needs_background": "light"
     },
     "output_type": "display_data"
    }
   ],
   "source": [
    "# shift train predictions for plotting\n",
    "#we must shift the predictions so that they align on the x-axis with the original dataset. \n",
    "trainPredictPlot = np.empty_like(eth_np)\n",
    "trainPredictPlot[:, :] = np.nan\n",
    "trainPredictPlot[seq_size:len(trainPredict)+seq_size, :] = trainPredict\n",
    "\n",
    "# shift test predictions for plotting\n",
    "testPredictPlot = np.empty_like(eth_np)\n",
    "testPredictPlot[:, :] = np.nan\n",
    "testPredictPlot[len(trainPredict)+(seq_size*2)+1:len(eth_np)-1, :] = testPredict\n",
    "\n",
    "# plot baseline and predictions\n",
    "plt.plot(scaler.inverse_transform(eth_np),label=\"Actual Data\",color='yellow')\n",
    "plt.plot(trainPredictPlot, label=\"Train Predict for Feedforward Neural Network\",color='red')\n",
    "plt.plot(testPredictPlot,label=\"Test Predict for Feedforward Neural Network\",color='blue')\n",
    "plt.legend()\n",
    "plt.ylabel('Price of Ethereum')\n",
    "plt.xlabel('time step' )\n",
    "#plt.title (\"Russell 2000 Adj close Price prediction- with MAE {:10.4f}\".format(mae))\n",
    "plt.show()"
   ]
  },
  {
   "cell_type": "markdown",
   "metadata": {},
   "source": [
    "### b. Long short-term memory (LSTM)"
   ]
  },
  {
   "cell_type": "code",
   "execution_count": 17,
   "metadata": {},
   "outputs": [],
   "source": [
    "from keras.layers import Dense\n",
    "from keras.layers import LSTM, Flatten\n",
    "from sklearn.metrics import mean_squared_error\n",
    "from keras.layers import ConvLSTM2D"
   ]
  },
  {
   "cell_type": "code",
   "execution_count": 18,
   "metadata": {},
   "outputs": [],
   "source": [
    "scaler = MinMaxScaler(feature_range=(0, 1)) \n",
    "eth_np = scaler.fit_transform(eth_np)"
   ]
  },
  {
   "cell_type": "code",
   "execution_count": 19,
   "metadata": {},
   "outputs": [],
   "source": [
    "#split into train and test sets, Fisrt 2/3 for training and last 1/3 for testing\n",
    "train_size = int(len(eth_np) * 0.66)\n",
    "test_size = len(eth_np) - train_size\n",
    "train, test = eth_np[0:train_size,:], eth_np[train_size:len(eth_np),:] "
   ]
  },
  {
   "cell_type": "code",
   "execution_count": 20,
   "metadata": {},
   "outputs": [
    {
     "name": "stdout",
     "output_type": "stream",
     "text": [
      "Shape of training set: (1285, 10)\n",
      "Shape of test set: (657, 10)\n"
     ]
    }
   ],
   "source": [
    "#creates a dataset X for t, t-1, t-2 ... prices and Y for the next (t + 1) prices\n",
    "def to_sequences(eth_np, seq_size=1):\n",
    "    x = []\n",
    "    y = []\n",
    "\n",
    "    for i in range(len(eth_np)-seq_size-1):\n",
    "        #print(i)\n",
    "        window = eth_np[i:(i+seq_size), 0]\n",
    "        x.append(window)\n",
    "        y.append(eth_np[i+seq_size, 0])\n",
    "        \n",
    "    return np.array(x),np.array(y)\n",
    "\n",
    "seq_size = 10 # Number of time steps to look back \n",
    "#Larger sequences (look further back) may improve forecasting.\n",
    "trainX, trainY = to_sequences(train, seq_size)\n",
    "testX, testY = to_sequences(test, seq_size)\n",
    "\n",
    "print(\"Shape of training set: {}\".format(trainX.shape))\n",
    "print(\"Shape of test set: {}\".format(testX.shape))"
   ]
  },
  {
   "cell_type": "code",
   "execution_count": 21,
   "metadata": {},
   "outputs": [
    {
     "name": "stdout",
     "output_type": "stream",
     "text": [
      "Model: \"sequential_2\"\n",
      "_________________________________________________________________\n",
      "Layer (type)                 Output Shape              Param #   \n",
      "=================================================================\n",
      "conv_lst_m2d_1 (ConvLSTM2D)  (None, 1, 1, 64)          19200     \n",
      "_________________________________________________________________\n",
      "flatten_1 (Flatten)          (None, 64)                0         \n",
      "_________________________________________________________________\n",
      "dense_3 (Dense)              (None, 32)                2080      \n",
      "_________________________________________________________________\n",
      "dense_4 (Dense)              (None, 1)                 33        \n",
      "=================================================================\n",
      "Total params: 21,313\n",
      "Trainable params: 21,313\n",
      "Non-trainable params: 0\n",
      "_________________________________________________________________\n"
     ]
    }
   ],
   "source": [
    "#The Model\n",
    "\n",
    "trainX = trainX.reshape((trainX.shape[0], 1, 1, 1, seq_size))\n",
    "testX = testX.reshape((testX.shape[0], 1, 1, 1, seq_size))\n",
    "\n",
    "model = Sequential()\n",
    "model.add(ConvLSTM2D(filters=64, kernel_size=(1,1), activation='relu', input_shape=(1, 1, 1, seq_size)))\n",
    "model.add(Flatten())\n",
    "model.add(Dense(32))\n",
    "model.add(Dense(1))\n",
    "model.compile(optimizer='adam', loss='mean_squared_error')\n",
    "model.summary()"
   ]
  },
  {
   "cell_type": "code",
   "execution_count": 22,
   "metadata": {},
   "outputs": [
    {
     "name": "stdout",
     "output_type": "stream",
     "text": [
      "Train on 1285 samples, validate on 657 samples\n",
      "Epoch 1/100\n",
      "1285/1285 [==============================] - 1s 949us/step - loss: 8.3089e-04 - val_loss: 0.0021\n",
      "Epoch 2/100\n",
      "1285/1285 [==============================] - 0s 156us/step - loss: 1.1141e-04 - val_loss: 0.0014\n",
      "Epoch 3/100\n",
      "1285/1285 [==============================] - 0s 156us/step - loss: 9.9742e-05 - val_loss: 0.0012\n",
      "Epoch 4/100\n",
      "1285/1285 [==============================] - 0s 169us/step - loss: 8.9438e-05 - val_loss: 0.0011\n",
      "Epoch 5/100\n",
      "1285/1285 [==============================] - 0s 156us/step - loss: 8.0935e-05 - val_loss: 0.0013\n",
      "Epoch 6/100\n",
      "1285/1285 [==============================] - 0s 156us/step - loss: 8.5654e-05 - val_loss: 9.1273e-04\n",
      "Epoch 7/100\n",
      "1285/1285 [==============================] - 0s 156us/step - loss: 7.6235e-05 - val_loss: 7.6212e-04\n",
      "Epoch 8/100\n",
      "1285/1285 [==============================] - 0s 156us/step - loss: 6.5393e-05 - val_loss: 6.9621e-04\n",
      "Epoch 9/100\n",
      "1285/1285 [==============================] - 0s 156us/step - loss: 6.3066e-05 - val_loss: 6.8186e-04\n",
      "Epoch 10/100\n",
      "1285/1285 [==============================] - 0s 156us/step - loss: 5.5130e-05 - val_loss: 6.5415e-04\n",
      "Epoch 11/100\n",
      "1285/1285 [==============================] - 0s 156us/step - loss: 5.4018e-05 - val_loss: 6.0067e-04\n",
      "Epoch 12/100\n",
      "1285/1285 [==============================] - 0s 197us/step - loss: 6.1313e-05 - val_loss: 5.6681e-04\n",
      "Epoch 13/100\n",
      "1285/1285 [==============================] - 0s 156us/step - loss: 4.8018e-05 - val_loss: 5.8351e-04\n",
      "Epoch 14/100\n",
      "1285/1285 [==============================] - 0s 156us/step - loss: 5.5601e-05 - val_loss: 5.3765e-04\n",
      "Epoch 15/100\n",
      "1285/1285 [==============================] - 0s 168us/step - loss: 5.2198e-05 - val_loss: 5.7809e-04\n",
      "Epoch 16/100\n",
      "1285/1285 [==============================] - 0s 156us/step - loss: 4.9690e-05 - val_loss: 5.2102e-04\n",
      "Epoch 17/100\n",
      "1285/1285 [==============================] - 0s 162us/step - loss: 4.6601e-05 - val_loss: 6.1270e-04\n",
      "Epoch 18/100\n",
      "1285/1285 [==============================] - 0s 150us/step - loss: 4.7732e-05 - val_loss: 5.2623e-04\n",
      "Epoch 19/100\n",
      "1285/1285 [==============================] - 0s 156us/step - loss: 4.7752e-05 - val_loss: 5.6345e-04\n",
      "Epoch 20/100\n",
      "1285/1285 [==============================] - 0s 168us/step - loss: 4.5630e-05 - val_loss: 5.5819e-04\n",
      "Epoch 21/100\n",
      "1285/1285 [==============================] - 0s 168us/step - loss: 4.4658e-05 - val_loss: 5.4121e-04\n",
      "Epoch 22/100\n",
      "1285/1285 [==============================] - 0s 157us/step - loss: 4.7046e-05 - val_loss: 5.4310e-04\n",
      "Epoch 23/100\n",
      "1285/1285 [==============================] - 0s 155us/step - loss: 4.4444e-05 - val_loss: 7.7643e-04\n",
      "Epoch 24/100\n",
      "1285/1285 [==============================] - 0s 156us/step - loss: 4.3481e-05 - val_loss: 5.8980e-04\n",
      "Epoch 25/100\n",
      "1285/1285 [==============================] - 0s 159us/step - loss: 4.5525e-05 - val_loss: 4.4805e-04\n",
      "Epoch 26/100\n",
      "1285/1285 [==============================] - 0s 152us/step - loss: 4.4771e-05 - val_loss: 4.5741e-04\n",
      "Epoch 27/100\n",
      "1285/1285 [==============================] - 0s 156us/step - loss: 4.6890e-05 - val_loss: 5.6702e-04\n",
      "Epoch 28/100\n",
      "1285/1285 [==============================] - 0s 168us/step - loss: 4.4049e-05 - val_loss: 4.3362e-04\n",
      "Epoch 29/100\n",
      "1285/1285 [==============================] - 0s 156us/step - loss: 4.4081e-05 - val_loss: 7.3235e-04\n",
      "Epoch 30/100\n",
      "1285/1285 [==============================] - 0s 172us/step - loss: 4.4566e-05 - val_loss: 4.2226e-04\n",
      "Epoch 31/100\n",
      "1285/1285 [==============================] - 0s 152us/step - loss: 4.4580e-05 - val_loss: 4.6181e-04\n",
      "Epoch 32/100\n",
      "1285/1285 [==============================] - 0s 156us/step - loss: 5.0427e-05 - val_loss: 0.0013\n",
      "Epoch 33/100\n",
      "1285/1285 [==============================] - 0s 159us/step - loss: 4.3653e-05 - val_loss: 6.2097e-04\n",
      "Epoch 34/100\n",
      "1285/1285 [==============================] - 0s 165us/step - loss: 4.1287e-05 - val_loss: 5.5482e-04\n",
      "Epoch 35/100\n",
      "1285/1285 [==============================] - 0s 156us/step - loss: 3.8331e-05 - val_loss: 7.3687e-04\n",
      "Epoch 36/100\n",
      "1285/1285 [==============================] - 0s 156us/step - loss: 4.7139e-05 - val_loss: 7.6080e-04\n",
      "Epoch 37/100\n",
      "1285/1285 [==============================] - 0s 156us/step - loss: 3.8542e-05 - val_loss: 4.9383e-04\n",
      "Epoch 38/100\n",
      "1285/1285 [==============================] - 0s 168us/step - loss: 5.9412e-05 - val_loss: 5.6754e-04\n",
      "Epoch 39/100\n",
      "1285/1285 [==============================] - 0s 192us/step - loss: 4.2980e-05 - val_loss: 5.5025e-04\n",
      "Epoch 40/100\n",
      "1285/1285 [==============================] - 0s 150us/step - loss: 4.2080e-05 - val_loss: 8.0757e-04\n",
      "Epoch 41/100\n",
      "1285/1285 [==============================] - 0s 162us/step - loss: 3.9862e-05 - val_loss: 0.0011\n",
      "Epoch 42/100\n",
      "1285/1285 [==============================] - 0s 156us/step - loss: 4.1595e-05 - val_loss: 7.3094e-04\n",
      "Epoch 43/100\n",
      "1285/1285 [==============================] - 0s 153us/step - loss: 3.6353e-05 - val_loss: 8.4162e-04\n",
      "Epoch 44/100\n",
      "1285/1285 [==============================] - 0s 160us/step - loss: 4.1511e-05 - val_loss: 4.7711e-04\n",
      "Epoch 45/100\n",
      "1285/1285 [==============================] - 0s 161us/step - loss: 4.9003e-05 - val_loss: 0.0012\n",
      "Epoch 46/100\n",
      "1285/1285 [==============================] - 0s 169us/step - loss: 3.9468e-05 - val_loss: 5.1340e-04\n",
      "Epoch 47/100\n",
      "1285/1285 [==============================] - 0s 151us/step - loss: 3.6916e-05 - val_loss: 4.2820e-04\n",
      "Epoch 48/100\n",
      "1285/1285 [==============================] - 0s 160us/step - loss: 4.1719e-05 - val_loss: 0.0011\n",
      "Epoch 49/100\n",
      "1285/1285 [==============================] - 0s 156us/step - loss: 4.3015e-05 - val_loss: 0.0012\n",
      "Epoch 50/100\n",
      "1285/1285 [==============================] - 0s 156us/step - loss: 4.9489e-05 - val_loss: 5.6975e-04\n",
      "Epoch 51/100\n",
      "1285/1285 [==============================] - 0s 168us/step - loss: 5.1099e-05 - val_loss: 9.6991e-04\n",
      "Epoch 52/100\n",
      "1285/1285 [==============================] - 0s 144us/step - loss: 3.6766e-05 - val_loss: 0.0012\n",
      "Epoch 53/100\n",
      "1285/1285 [==============================] - 0s 180us/step - loss: 3.7552e-05 - val_loss: 0.0010\n",
      "Epoch 54/100\n",
      "1285/1285 [==============================] - 0s 180us/step - loss: 3.7114e-05 - val_loss: 4.8480e-04\n",
      "Epoch 55/100\n",
      "1285/1285 [==============================] - 0s 180us/step - loss: 4.7543e-05 - val_loss: 6.9343e-04\n",
      "Epoch 56/100\n",
      "1285/1285 [==============================] - 0s 180us/step - loss: 3.8844e-05 - val_loss: 0.0012\n",
      "Epoch 57/100\n",
      "1285/1285 [==============================] - 0s 180us/step - loss: 3.6740e-05 - val_loss: 7.5212e-04\n",
      "Epoch 58/100\n",
      "1285/1285 [==============================] - 0s 181us/step - loss: 3.6040e-05 - val_loss: 0.0011\n",
      "Epoch 59/100\n",
      "1285/1285 [==============================] - 0s 197us/step - loss: 3.4389e-05 - val_loss: 0.0011\n",
      "Epoch 60/100\n",
      "1285/1285 [==============================] - 0s 203us/step - loss: 3.7424e-05 - val_loss: 6.7287e-04\n",
      "Epoch 61/100\n",
      "1285/1285 [==============================] - 0s 186us/step - loss: 3.6761e-05 - val_loss: 0.0011\n",
      "Epoch 62/100\n",
      "1285/1285 [==============================] - 0s 180us/step - loss: 4.0100e-05 - val_loss: 9.4796e-04\n",
      "Epoch 63/100\n",
      "1285/1285 [==============================] - 0s 190us/step - loss: 4.5095e-05 - val_loss: 5.1205e-04\n",
      "Epoch 64/100\n",
      "1285/1285 [==============================] - 0s 175us/step - loss: 3.8644e-05 - val_loss: 0.0012\n",
      "Epoch 65/100\n",
      "1285/1285 [==============================] - 0s 180us/step - loss: 4.0371e-05 - val_loss: 5.7440e-04\n",
      "Epoch 66/100\n",
      "1285/1285 [==============================] - 0s 185us/step - loss: 4.0388e-05 - val_loss: 7.5452e-04\n",
      "Epoch 67/100\n",
      "1285/1285 [==============================] - 0s 174us/step - loss: 4.1503e-05 - val_loss: 7.1824e-04\n",
      "Epoch 68/100\n",
      "1285/1285 [==============================] - 0s 163us/step - loss: 3.5962e-05 - val_loss: 7.2456e-04\n",
      "Epoch 69/100\n",
      "1285/1285 [==============================] - 0s 156us/step - loss: 3.4148e-05 - val_loss: 0.0011\n",
      "Epoch 70/100\n",
      "1285/1285 [==============================] - 0s 144us/step - loss: 3.9572e-05 - val_loss: 9.2234e-04\n",
      "Epoch 71/100\n",
      "1285/1285 [==============================] - 0s 144us/step - loss: 3.8728e-05 - val_loss: 0.0013\n",
      "Epoch 72/100\n",
      "1285/1285 [==============================] - 0s 164us/step - loss: 3.5670e-05 - val_loss: 0.0013\n",
      "Epoch 73/100\n"
     ]
    },
    {
     "name": "stdout",
     "output_type": "stream",
     "text": [
      "1285/1285 [==============================] - 0s 148us/step - loss: 4.2632e-05 - val_loss: 0.0010\n",
      "Epoch 74/100\n",
      "1285/1285 [==============================] - 0s 156us/step - loss: 3.6423e-05 - val_loss: 0.0014\n",
      "Epoch 75/100\n",
      "1285/1285 [==============================] - 0s 145us/step - loss: 3.7883e-05 - val_loss: 7.4050e-04\n",
      "Epoch 76/100\n",
      "1285/1285 [==============================] - 0s 155us/step - loss: 3.5095e-05 - val_loss: 0.0014\n",
      "Epoch 77/100\n",
      "1285/1285 [==============================] - 0s 144us/step - loss: 3.4018e-05 - val_loss: 0.0013\n",
      "Epoch 78/100\n",
      "1285/1285 [==============================] - 0s 144us/step - loss: 3.5250e-05 - val_loss: 6.6117e-04\n",
      "Epoch 79/100\n",
      "1285/1285 [==============================] - 0s 156us/step - loss: 3.2186e-05 - val_loss: 9.0831e-04\n",
      "Epoch 80/100\n",
      "1285/1285 [==============================] - 0s 153us/step - loss: 4.6273e-05 - val_loss: 0.0011\n",
      "Epoch 81/100\n",
      "1285/1285 [==============================] - 0s 154us/step - loss: 3.7402e-05 - val_loss: 8.4491e-04\n",
      "Epoch 82/100\n",
      "1285/1285 [==============================] - 0s 144us/step - loss: 3.4307e-05 - val_loss: 6.0755e-04\n",
      "Epoch 83/100\n",
      "1285/1285 [==============================] - 0s 165us/step - loss: 3.6261e-05 - val_loss: 7.1227e-04\n",
      "Epoch 84/100\n",
      "1285/1285 [==============================] - 0s 146us/step - loss: 3.7945e-05 - val_loss: 0.0017\n",
      "Epoch 85/100\n",
      "1285/1285 [==============================] - 0s 156us/step - loss: 4.6280e-05 - val_loss: 0.0013\n",
      "Epoch 86/100\n",
      "1285/1285 [==============================] - 0s 185us/step - loss: 3.4725e-05 - val_loss: 9.3133e-04\n",
      "Epoch 87/100\n",
      "1285/1285 [==============================] - 0s 156us/step - loss: 3.4311e-05 - val_loss: 0.0014\n",
      "Epoch 88/100\n",
      "1285/1285 [==============================] - 0s 144us/step - loss: 3.2157e-05 - val_loss: 0.0014\n",
      "Epoch 89/100\n",
      "1285/1285 [==============================] - 0s 156us/step - loss: 3.5202e-05 - val_loss: 7.6258e-04\n",
      "Epoch 90/100\n",
      "1285/1285 [==============================] - 0s 151us/step - loss: 3.3606e-05 - val_loss: 0.0013\n",
      "Epoch 91/100\n",
      "1285/1285 [==============================] - 0s 155us/step - loss: 3.7249e-05 - val_loss: 9.6608e-04\n",
      "Epoch 92/100\n",
      "1285/1285 [==============================] - 0s 144us/step - loss: 3.8994e-05 - val_loss: 0.0017\n",
      "Epoch 93/100\n",
      "1285/1285 [==============================] - 0s 160us/step - loss: 4.0916e-05 - val_loss: 0.0013\n",
      "Epoch 94/100\n",
      "1285/1285 [==============================] - 0s 146us/step - loss: 3.7454e-05 - val_loss: 8.9460e-04\n",
      "Epoch 95/100\n",
      "1285/1285 [==============================] - 0s 149us/step - loss: 4.2732e-05 - val_loss: 0.0015\n",
      "Epoch 96/100\n",
      "1285/1285 [==============================] - 0s 156us/step - loss: 3.3258e-05 - val_loss: 0.0011\n",
      "Epoch 97/100\n",
      "1285/1285 [==============================] - 0s 156us/step - loss: 3.2438e-05 - val_loss: 0.0014\n",
      "Epoch 98/100\n",
      "1285/1285 [==============================] - 0s 156us/step - loss: 3.3401e-05 - val_loss: 0.0016\n",
      "Epoch 99/100\n",
      "1285/1285 [==============================] - 0s 143us/step - loss: 3.5814e-05 - val_loss: 0.0011\n",
      "Epoch 100/100\n",
      "1285/1285 [==============================] - 0s 156us/step - loss: 3.3315e-05 - val_loss: 0.0012\n"
     ]
    },
    {
     "data": {
      "text/plain": [
       "<keras.callbacks.callbacks.History at 0x1f83d791048>"
      ]
     },
     "execution_count": 22,
     "metadata": {},
     "output_type": "execute_result"
    }
   ],
   "source": [
    "#Fitting the model\n",
    "model.fit(trainX, trainY, validation_data=(testX, testY),\n",
    "          verbose=1, epochs=100)"
   ]
  },
  {
   "cell_type": "code",
   "execution_count": 23,
   "metadata": {},
   "outputs": [],
   "source": [
    "# make predictions\n",
    "\n",
    "trainPredict = model.predict(trainX)\n",
    "testPredict = model.predict(testX)"
   ]
  },
  {
   "cell_type": "code",
   "execution_count": 24,
   "metadata": {},
   "outputs": [
    {
     "name": "stdout",
     "output_type": "stream",
     "text": [
      "Train Score: 0.01 RMSE\n",
      "Test Score: 0.04 RMSE\n"
     ]
    }
   ],
   "source": [
    "# invert predictions back to prescaled values\n",
    "#This is to compare with original input values\n",
    "\n",
    "trainPredict = scaler.inverse_transform(trainPredict)\n",
    "trainY = scaler.inverse_transform([trainY])\n",
    "testPredict = scaler.inverse_transform(testPredict)\n",
    "testY = scaler.inverse_transform([testY])\n",
    "\n",
    "# calculate root mean squared error\n",
    "trainScore = math.sqrt(mean_squared_error(trainY[0], trainPredict[:,0]))\n",
    "print('Train Score: %.2f RMSE' % (trainScore))\n",
    "\n",
    "testScore = math.sqrt(mean_squared_error(testY[0], testPredict[:,0]))\n",
    "print('Test Score: %.2f RMSE' % (testScore))"
   ]
  },
  {
   "cell_type": "code",
   "execution_count": 25,
   "metadata": {},
   "outputs": [
    {
     "data": {
      "image/png": "[encoded data removed]",
      "text/plain": [
       "<Figure size 432x288 with 1 Axes>"
      ]
     },
     "metadata": {
      "needs_background": "light"
     },
     "output_type": "display_data"
    }
   ],
   "source": [
    "# shift train predictions for plotting\n",
    "#we must shift the predictions so that they align on the x-axis with the original dataset. \n",
    "trainPredictPlot = np.empty_like(eth_np)\n",
    "trainPredictPlot[:, :] = np.nan\n",
    "trainPredictPlot[seq_size:len(trainPredict)+seq_size, :] = trainPredict\n",
    "\n",
    "# shift test predictions for plotting\n",
    "testPredictPlot = np.empty_like(eth_np)\n",
    "testPredictPlot[:, :] = np.nan\n",
    "testPredictPlot[len(trainPredict)+(seq_size*2)+1:len(eth_np)-1, :] = testPredict\n",
    "\n",
    "# plot baseline and predictions\n",
    "plt.plot(scaler.inverse_transform(eth_np),label=\"Actual Data\")\n",
    "plt.plot(trainPredictPlot,label=\"Train Predict for LSTM\")\n",
    "plt.plot(testPredictPlot,label=\"Test Predict for LSTM\")\n",
    "plt.legend()\n",
    "plt.ylabel('Price of Ethereum')\n",
    "plt.xlabel('time step' )\n",
    "plt.show()\n",
    "\n"
   ]
  },
  {
   "cell_type": "code",
   "execution_count": null,
   "metadata": {},
   "outputs": [],
   "source": []
  }
 ],
 "metadata": {
  "kernelspec": {
   "display_name": "Python 3",
   "language": "python",
   "name": "python3"
  },
  "language_info": {
   "codemirror_mode": {
    "name": "ipython",
    "version": 3
   },
   "file_extension": ".py",
   "mimetype": "text/x-python",
   "name": "python",
   "nbconvert_exporter": "python",
   "pygments_lexer": "ipython3",
   "version": "3.7.9"
  }
 },
 "nbformat": 4,
 "nbformat_minor": 4
}
